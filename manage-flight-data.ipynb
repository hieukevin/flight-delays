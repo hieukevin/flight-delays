{
 "cells": [
  {
   "cell_type": "markdown",
   "id": "16da5f9b",
   "metadata": {},
   "source": [
    "I have csv file with data, that have these columns: Year,Month,DayofMonth,DayOfWeek,Carrier,OriginAirportID,OriginAirportName,OriginCity,OriginState,DestAirportID,DestAirportName,DestCity,DestState,CRSDepTime,DepDelay,DepDel15,CRSArrTime,ArrDelay,ArrDel15,Cancelled,\n",
    "Cleanse the data by identifying null values and replacing them with an appropriate value (zero in this case)."
   ]
  },
  {
   "cell_type": "code",
   "execution_count": 1,
   "id": "7f555506",
   "metadata": {},
   "outputs": [],
   "source": [
    "# Import required libraries for data cleansing and analysis\n",
    "import pandas as pd\n",
    "import numpy as np\n",
    "import os"
   ]
  },
  {
   "cell_type": "code",
   "execution_count": 2,
   "id": "c61456f6",
   "metadata": {},
   "outputs": [
    {
     "name": "stdout",
     "output_type": "stream",
     "text": [
      "Files in /workspaces/flight-delays/data:\n",
      "  - flights.csv\n"
     ]
    }
   ],
   "source": [
    "# First, let's see what files are available in the data directory\n",
    "data_dir = '/workspaces/flight-delays/data'\n",
    "if os.path.exists(data_dir):\n",
    "    print(f\"Files in {data_dir}:\")\n",
    "    for file in os.listdir(data_dir):\n",
    "        print(f\"  - {file}\")\n",
    "else:\n",
    "    print(f\"Data directory {data_dir} not found. Let's check the current directory:\")\n",
    "    for file in os.listdir('.'):\n",
    "        if file.endswith('.csv'):\n",
    "            print(f\"  - {file}\")"
   ]
  },
  {
   "cell_type": "code",
   "execution_count": 3,
   "id": "2b5a744f",
   "metadata": {},
   "outputs": [
    {
     "name": "stdout",
     "output_type": "stream",
     "text": [
      "Successfully loaded flights.csv with shape: (271940, 20)\n",
      "\n",
      "Columns: ['Year', 'Month', 'DayofMonth', 'DayOfWeek', 'Carrier', 'OriginAirportID', 'OriginAirportName', 'OriginCity', 'OriginState', 'DestAirportID', 'DestAirportName', 'DestCity', 'DestState', 'CRSDepTime', 'DepDelay', 'DepDel15', 'CRSArrTime', 'ArrDelay', 'ArrDel15', 'Cancelled']\n"
     ]
    }
   ],
   "source": [
    "# Load the flights.csv file directly\n",
    "csv_path = '/workspaces/flight-delays/data/flights.csv'\n",
    "df = pd.read_csv(csv_path)\n",
    "\n",
    "print(f\"Successfully loaded flights.csv with shape: {df.shape}\")\n",
    "print(f\"\\nColumns: {list(df.columns)}\")"
   ]
  },
  {
   "cell_type": "code",
   "execution_count": 6,
   "id": "643b6f37",
   "metadata": {},
   "outputs": [
    {
     "name": "stdout",
     "output_type": "stream",
     "text": [
      "=== DATA CLEANSING ===\n",
      "Null values before cleaning:\n",
      "DepDel15    2761\n",
      "dtype: int64\n",
      "\n",
      "Null values after cleaning:\n",
      "Series([], dtype: int64)\n",
      "\n",
      "✅ Success! All null values have been replaced with 0\n",
      "\n",
      "Cleaned dataset shape: (271940, 20)\n",
      "\n",
      "Null values after cleaning:\n",
      "Series([], dtype: int64)\n",
      "\n",
      "✅ Success! All null values have been replaced with 0\n",
      "\n",
      "Cleaned dataset shape: (271940, 20)\n"
     ]
    }
   ],
   "source": [
    "# Data cleansing: identify null values and replace with 0\n",
    "print(\"=== DATA CLEANSING ===\")\n",
    "\n",
    "# Check for null values before cleaning\n",
    "print(\"Null values before cleaning:\")\n",
    "null_before = df.isnull().sum()\n",
    "print(null_before[null_before > 0])\n",
    "\n",
    "# Replace all null values with 0\n",
    "df_clean = df.fillna(0)\n",
    "\n",
    "# Verify cleaning was successful\n",
    "print(\"\\nNull values after cleaning:\")\n",
    "null_after = df_clean.isnull().sum()\n",
    "print(null_after[null_after > 0])\n",
    "\n",
    "if null_after.sum() == 0:\n",
    "    print(\"\\n✅ Success! All null values have been replaced with 0\")\n",
    "else:\n",
    "    print(f\"\\n⚠️ Warning: {null_after.sum()} null values still remain\")\n",
    "\n",
    "print(f\"\\nCleaned dataset shape: {df_clean.shape}\")"
   ]
  },
  {
   "cell_type": "code",
   "execution_count": 7,
   "id": "8f40491d",
   "metadata": {},
   "outputs": [
    {
     "name": "stdout",
     "output_type": "stream",
     "text": [
      "✅ Cleansed data saved to: /workspaces/flight-delays/data/processed/flights_clean.csv\n",
      "Original data: 271,940 rows\n",
      "Clean data: 271,940 rows\n",
      "Columns: 20\n",
      "\n",
      "Sample of cleaned data:\n",
      "   Year  Month  DayofMonth  DayOfWeek Carrier  OriginAirportID  \\\n",
      "0  2013      9          16          1      DL            15304   \n",
      "1  2013      9          23          1      WN            14122   \n",
      "2  2013      9           7          6      AS            14747   \n",
      "3  2013      7          22          1      OO            13930   \n",
      "4  2013      5          16          4      DL            13931   \n",
      "\n",
      "              OriginAirportName  OriginCity OriginState  DestAirportID  \\\n",
      "0           Tampa International       Tampa          FL          12478   \n",
      "1      Pittsburgh International  Pittsburgh          PA          13232   \n",
      "2  Seattle/Tacoma International     Seattle          WA          11278   \n",
      "3  Chicago O'Hare International     Chicago          IL          11042   \n",
      "4         Norfolk International     Norfolk          VA          10397   \n",
      "\n",
      "                            DestAirportName    DestCity DestState  CRSDepTime  \\\n",
      "0             John F. Kennedy International    New York        NY        1539   \n",
      "1              Chicago Midway International     Chicago        IL         710   \n",
      "2         Ronald Reagan Washington National  Washington        DC         810   \n",
      "3           Cleveland-Hopkins International   Cleveland        OH         804   \n",
      "4  Hartsfield-Jackson Atlanta International     Atlanta        GA         545   \n",
      "\n",
      "   DepDelay  DepDel15  CRSArrTime  ArrDelay  ArrDel15  Cancelled  \n",
      "0         4       0.0        1824        13         0          0  \n",
      "1         3       0.0         740        22         1          0  \n",
      "2        -3       0.0        1614        -7         0          0  \n",
      "3        35       1.0        1027        33         1          0  \n",
      "4        -1       0.0         728        -9         0          0  \n"
     ]
    }
   ],
   "source": [
    "# Save the cleansed data to a new file\n",
    "import os\n",
    "\n",
    "# Create processed data directory if it doesn't exist\n",
    "processed_dir = '/workspaces/flight-delays/data/processed'\n",
    "os.makedirs(processed_dir, exist_ok=True)\n",
    "\n",
    "# Save cleansed data\n",
    "clean_csv_path = os.path.join(processed_dir, 'flights_clean.csv')\n",
    "df_clean.to_csv(clean_csv_path, index=False)\n",
    "\n",
    "print(f\"✅ Cleansed data saved to: {clean_csv_path}\")\n",
    "print(f\"Original data: {df.shape[0]:,} rows\")\n",
    "print(f\"Clean data: {df_clean.shape[0]:,} rows\")\n",
    "print(f\"Columns: {df_clean.shape[1]}\")\n",
    "\n",
    "# Show a sample of the cleaned data\n",
    "print(f\"\\nSample of cleaned data:\")\n",
    "print(df_clean.head())"
   ]
  }
 ],
 "metadata": {
  "kernelspec": {
   "display_name": "Python 3 (ipykernel)",
   "language": "python",
   "name": "python3"
  },
  "language_info": {
   "codemirror_mode": {
    "name": "ipython",
    "version": 3
   },
   "file_extension": ".py",
   "mimetype": "text/x-python",
   "name": "python",
   "nbconvert_exporter": "python",
   "pygments_lexer": "ipython3",
   "version": "3.11.7"
  }
 },
 "nbformat": 4,
 "nbformat_minor": 5
}
